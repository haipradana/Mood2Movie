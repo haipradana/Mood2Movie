{
 "cells": [
  {
   "cell_type": "code",
   "execution_count": 1,
   "id": "b1730124",
   "metadata": {},
   "outputs": [],
   "source": [
    "import sys\n",
    "from pathlib import Path\n",
    "notebook_path = Path('.').resolve()\n",
    "project_root = notebook_path.parent\n",
    "sys.path.append(str(project_root))"
   ]
  },
  {
   "cell_type": "code",
   "execution_count": 2,
   "id": "aa97f950",
   "metadata": {},
   "outputs": [],
   "source": [
    "from src.tmdb_client import cache_movies"
   ]
  },
  {
   "cell_type": "code",
   "execution_count": 3,
   "id": "b2085996",
   "metadata": {},
   "outputs": [
    {
     "name": "stdout",
     "output_type": "stream",
     "text": [
      "cached 1322 movies -> data\\movies_cache.csv\n"
     ]
    }
   ],
   "source": [
    "cache_movies(pages=40)"
   ]
  },
  {
   "cell_type": "code",
   "execution_count": 4,
   "id": "2053a2d2",
   "metadata": {},
   "outputs": [
    {
     "data": {
      "text/html": [
       "<div>\n",
       "<style scoped>\n",
       "    .dataframe tbody tr th:only-of-type {\n",
       "        vertical-align: middle;\n",
       "    }\n",
       "\n",
       "    .dataframe tbody tr th {\n",
       "        vertical-align: top;\n",
       "    }\n",
       "\n",
       "    .dataframe thead th {\n",
       "        text-align: right;\n",
       "    }\n",
       "</style>\n",
       "<table border=\"1\" class=\"dataframe\">\n",
       "  <thead>\n",
       "    <tr style=\"text-align: right;\">\n",
       "      <th></th>\n",
       "      <th>id</th>\n",
       "      <th>title</th>\n",
       "      <th>overview</th>\n",
       "      <th>genre_ids</th>\n",
       "      <th>vote_average</th>\n",
       "      <th>poster_path</th>\n",
       "    </tr>\n",
       "  </thead>\n",
       "  <tbody>\n",
       "    <tr>\n",
       "      <th>0</th>\n",
       "      <td>1087192</td>\n",
       "      <td>How to Train Your Dragon</td>\n",
       "      <td>On the rugged isle of Berk, where Vikings and ...</td>\n",
       "      <td>[14, 10751, 28]</td>\n",
       "      <td>8.140</td>\n",
       "      <td>/41dfWUWtg1kUZcJYe6Zk6ewxzMu.jpg</td>\n",
       "    </tr>\n",
       "    <tr>\n",
       "      <th>1</th>\n",
       "      <td>1071585</td>\n",
       "      <td>M3GAN 2.0</td>\n",
       "      <td>After the underlying tech for M3GAN is stolen ...</td>\n",
       "      <td>[28, 878, 53]</td>\n",
       "      <td>7.709</td>\n",
       "      <td>/4a63rQqIDTrYNdcnTXdPsQyxVLo.jpg</td>\n",
       "    </tr>\n",
       "    <tr>\n",
       "      <th>2</th>\n",
       "      <td>1315986</td>\n",
       "      <td>Man with No Past</td>\n",
       "      <td>Waking up in an unfamiliar city, a man with no...</td>\n",
       "      <td>[28, 18]</td>\n",
       "      <td>6.981</td>\n",
       "      <td>/eWHvROuznSzcxBAAkzX1X0Rmzoe.jpg</td>\n",
       "    </tr>\n",
       "    <tr>\n",
       "      <th>3</th>\n",
       "      <td>552524</td>\n",
       "      <td>Lilo &amp; Stitch</td>\n",
       "      <td>The wildly funny and touching story of a lonel...</td>\n",
       "      <td>[10751, 878, 35, 12]</td>\n",
       "      <td>7.200</td>\n",
       "      <td>/c32TsWLES7kL1uy6fF03V67AIYX.jpg</td>\n",
       "    </tr>\n",
       "    <tr>\n",
       "      <th>4</th>\n",
       "      <td>1311031</td>\n",
       "      <td>Demon Slayer: Kimetsu no Yaiba Infinity Castle</td>\n",
       "      <td>As the Demon Slayer Corps members and Hashira ...</td>\n",
       "      <td>[16, 28, 14, 53]</td>\n",
       "      <td>7.100</td>\n",
       "      <td>/aFRDH3P7TX61FVGpaLhKr6QiOC1.jpg</td>\n",
       "    </tr>\n",
       "  </tbody>\n",
       "</table>\n",
       "</div>"
      ],
      "text/plain": [
       "        id                                           title  \\\n",
       "0  1087192                        How to Train Your Dragon   \n",
       "1  1071585                                       M3GAN 2.0   \n",
       "2  1315986                                Man with No Past   \n",
       "3   552524                                   Lilo & Stitch   \n",
       "4  1311031  Demon Slayer: Kimetsu no Yaiba Infinity Castle   \n",
       "\n",
       "                                            overview             genre_ids  \\\n",
       "0  On the rugged isle of Berk, where Vikings and ...       [14, 10751, 28]   \n",
       "1  After the underlying tech for M3GAN is stolen ...         [28, 878, 53]   \n",
       "2  Waking up in an unfamiliar city, a man with no...              [28, 18]   \n",
       "3  The wildly funny and touching story of a lonel...  [10751, 878, 35, 12]   \n",
       "4  As the Demon Slayer Corps members and Hashira ...      [16, 28, 14, 53]   \n",
       "\n",
       "   vote_average                       poster_path  \n",
       "0         8.140  /41dfWUWtg1kUZcJYe6Zk6ewxzMu.jpg  \n",
       "1         7.709  /4a63rQqIDTrYNdcnTXdPsQyxVLo.jpg  \n",
       "2         6.981  /eWHvROuznSzcxBAAkzX1X0Rmzoe.jpg  \n",
       "3         7.200  /c32TsWLES7kL1uy6fF03V67AIYX.jpg  \n",
       "4         7.100  /aFRDH3P7TX61FVGpaLhKr6QiOC1.jpg  "
      ]
     },
     "execution_count": 4,
     "metadata": {},
     "output_type": "execute_result"
    }
   ],
   "source": [
    "import pandas as pd\n",
    "movie = pd.read_csv(\"../data/movies_cache.csv\")\n",
    "movie.head()"
   ]
  },
  {
   "cell_type": "markdown",
   "id": "01d05247",
   "metadata": {},
   "source": [
    "## embedding"
   ]
  },
  {
   "cell_type": "code",
   "execution_count": 5,
   "id": "b34d8193",
   "metadata": {},
   "outputs": [],
   "source": [
    "from src.embedder import build_embeddings"
   ]
  },
  {
   "cell_type": "code",
   "execution_count": 6,
   "id": "b8216d73",
   "metadata": {},
   "outputs": [
    {
     "name": "stderr",
     "output_type": "stream",
     "text": [
      "c:\\Users\\legion\\anaconda3\\Lib\\site-packages\\sentence_transformers\\SentenceTransformer.py:204: FutureWarning: The `use_auth_token` argument is deprecated and will be removed in v4 of SentenceTransformers.\n",
      "  warnings.warn(\n"
     ]
    },
    {
     "data": {
      "application/vnd.jupyter.widget-view+json": {
       "model_id": "8a0bd250a22e4b0a809daeaac21afe08",
       "version_major": 2,
       "version_minor": 0
      },
      "text/plain": [
       "Batches:   0%|          | 0/42 [00:00<?, ?it/s]"
      ]
     },
     "metadata": {},
     "output_type": "display_data"
    },
    {
     "name": "stderr",
     "output_type": "stream",
     "text": [
      "c:\\Users\\legion\\anaconda3\\Lib\\site-packages\\transformers\\models\\bert\\modeling_bert.py:408: UserWarning: 1Torch was not compiled with flash attention. (Triggered internally at ..\\aten\\src\\ATen\\native\\transformers\\cuda\\sdp_utils.cpp:455.)\n",
      "  attn_output = torch.nn.functional.scaled_dot_product_attention(\n"
     ]
    },
    {
     "name": "stdout",
     "output_type": "stream",
     "text": [
      "Embeddings saved to E:\\my_projects\\Mood2Movie\\data\\movie_embeddings.npy\n"
     ]
    }
   ],
   "source": [
    "build_embeddings(force=True)"
   ]
  }
 ],
 "metadata": {
  "kernelspec": {
   "display_name": "base",
   "language": "python",
   "name": "python3"
  },
  "language_info": {
   "codemirror_mode": {
    "name": "ipython",
    "version": 3
   },
   "file_extension": ".py",
   "mimetype": "text/x-python",
   "name": "python",
   "nbconvert_exporter": "python",
   "pygments_lexer": "ipython3",
   "version": "3.12.3"
  }
 },
 "nbformat": 4,
 "nbformat_minor": 5
}
